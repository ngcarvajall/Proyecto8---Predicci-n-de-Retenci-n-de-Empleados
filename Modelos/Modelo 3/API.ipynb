{
 "cells": [
  {
   "cell_type": "code",
   "execution_count": 47,
   "metadata": {},
   "outputs": [],
   "source": [
    "import requests"
   ]
  },
  {
   "cell_type": "code",
   "execution_count": 48,
   "metadata": {},
   "outputs": [],
   "source": [
    "diccionario = {'Age': 51,\n",
    " 'BusinessTravel': 'Travel_Rarely',\n",
    " 'Department': 'Sales',\n",
    " 'DistanceFromHome': 6,\n",
    " 'Education': 2,\n",
    " 'EducationField': 'Life Sciences',\n",
    "#  'EmployeeCount': 1,\n",
    "#  'EmployeeID': 1,\n",
    " 'Gender': 'Female',\n",
    " 'JobLevel': 1,\n",
    " 'JobRole': 'Healthcare Representative',\n",
    " 'MaritalStatus': 'Married',\n",
    " 'MonthlyIncome': 131160,\n",
    " 'NumCompaniesWorked': 1.0,\n",
    "#  'Over18': 'Y',\n",
    " 'PercentSalaryHike': 11,\n",
    "#  'StandardHours': 8,\n",
    " 'StockOptionLevel': 0,\n",
    " 'TotalWorkingYears': 1.0,\n",
    " 'TrainingTimesLastYear': 6,\n",
    " 'YearsAtCompany': 1,\n",
    " 'YearsSinceLastPromotion': 0,\n",
    " 'YearsWithCurrManager': 0,\n",
    " 'PerformanceRating': 3,\n",
    " 'EnvironmentSatisfaction': 3.0,\n",
    " 'JobSatisfaction': 4.0,\n",
    " 'WorkLifeBalance': 2.0,\n",
    " 'JobInvolvement': 2,\n",
    " 'PerformanceRating': 3\n",
    " }"
   ]
  },
  {
   "cell_type": "code",
   "execution_count": 49,
   "metadata": {},
   "outputs": [
    {
     "data": {
      "text/plain": [
       "200"
      ]
     },
     "execution_count": 49,
     "metadata": {},
     "output_type": "execute_result"
    }
   ],
   "source": [
    "res = requests.post('http://127.0.0.1:5000/predict', json=diccionario)\n",
    "res.status_code"
   ]
  },
  {
   "cell_type": "code",
   "execution_count": 50,
   "metadata": {},
   "outputs": [
    {
     "data": {
      "text/plain": [
       "{'error': 'Error en los valores de las columnas: Unexpected input dimension 8, expected 55'}"
      ]
     },
     "execution_count": 50,
     "metadata": {},
     "output_type": "execute_result"
    }
   ],
   "source": [
    "res.json()"
   ]
  },
  {
   "cell_type": "code",
   "execution_count": null,
   "metadata": {},
   "outputs": [],
   "source": []
  }
 ],
 "metadata": {
  "kernelspec": {
   "display_name": "Python 3",
   "language": "python",
   "name": "python3"
  },
  "language_info": {
   "codemirror_mode": {
    "name": "ipython",
    "version": 3
   },
   "file_extension": ".py",
   "mimetype": "text/x-python",
   "name": "python",
   "nbconvert_exporter": "python",
   "pygments_lexer": "ipython3",
   "version": "3.11.9"
  }
 },
 "nbformat": 4,
 "nbformat_minor": 2
}
